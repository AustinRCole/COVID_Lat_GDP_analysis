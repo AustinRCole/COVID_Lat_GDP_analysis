{
 "cells": [
  {
   "cell_type": "code",
   "execution_count": null,
   "metadata": {},
   "outputs": [],
   "source": [
    "#Import dependencies\n",
    "import matplotlib.pyplot as plt\n",
    "import pandas as pd\n",
    "import scipy.stats as st\n",
    "import numpy as np\n",
    "from scipy.stats import linregress\n",
    "\n",
    "covid_path = \"Resources/COVID_19.csv\"\n",
    "GDP_path = \"Resources/Global_GDP.csv\"\n",
    "cities_path = \"Resources/worldcities.csv\"\n",
    "\n",
    "COVID_data = pd.read_csv(covid_path)\n",
    "GDP_data = pd.read_csv(GDP_path)\n",
    "cities_data = pd.read_csv(cities_path)"
   ]
  }
 ],
 "metadata": {
  "kernelspec": {
   "display_name": "Python [conda env:PythonData] *",
   "language": "python",
   "name": "conda-env-PythonData-py"
  },
  "language_info": {
   "codemirror_mode": {
    "name": "ipython",
    "version": 3
   },
   "file_extension": ".py",
   "mimetype": "text/x-python",
   "name": "python",
   "nbconvert_exporter": "python",
   "pygments_lexer": "ipython3",
   "version": "3.6.10"
  }
 },
 "nbformat": 4,
 "nbformat_minor": 4
}
