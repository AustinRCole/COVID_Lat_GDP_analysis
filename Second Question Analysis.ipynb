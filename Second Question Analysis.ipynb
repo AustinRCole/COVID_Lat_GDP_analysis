{
 "cells": [
  {
   "cell_type": "code",
   "execution_count": 1,
   "metadata": {},
   "outputs": [
    {
     "data": {
      "text/html": [
       "<div>\n",
       "<style scoped>\n",
       "    .dataframe tbody tr th:only-of-type {\n",
       "        vertical-align: middle;\n",
       "    }\n",
       "\n",
       "    .dataframe tbody tr th {\n",
       "        vertical-align: top;\n",
       "    }\n",
       "\n",
       "    .dataframe thead th {\n",
       "        text-align: right;\n",
       "    }\n",
       "</style>\n",
       "<table border=\"1\" class=\"dataframe\">\n",
       "  <thead>\n",
       "    <tr style=\"text-align: right;\">\n",
       "      <th></th>\n",
       "      <th>Unnamed: 0</th>\n",
       "      <th>Country</th>\n",
       "      <th>Country Code</th>\n",
       "      <th>Cases</th>\n",
       "      <th>Deaths</th>\n",
       "      <th>Deaths per 1000 Cases</th>\n",
       "      <th>Population 2019</th>\n",
       "      <th>Cases per 100,000 People</th>\n",
       "      <th>Deaths per 100,000 People</th>\n",
       "      <th>2017 GDP in Billions</th>\n",
       "      <th>2018 GDP in Billions</th>\n",
       "      <th>2019 GDP in Billions</th>\n",
       "      <th>Capital</th>\n",
       "      <th>Latitude</th>\n",
       "      <th>Longitude</th>\n",
       "    </tr>\n",
       "  </thead>\n",
       "  <tbody>\n",
       "    <tr>\n",
       "      <th>0</th>\n",
       "      <td>0</td>\n",
       "      <td>Afghanistan</td>\n",
       "      <td>AFG</td>\n",
       "      <td>39616</td>\n",
       "      <td>1470</td>\n",
       "      <td>37.11</td>\n",
       "      <td>38041757.0</td>\n",
       "      <td>104.14</td>\n",
       "      <td>3.86</td>\n",
       "      <td>20.191760</td>\n",
       "      <td>19.484385</td>\n",
       "      <td>19.101354</td>\n",
       "      <td>Kabul</td>\n",
       "      <td>34.5167</td>\n",
       "      <td>69.1833</td>\n",
       "    </tr>\n",
       "    <tr>\n",
       "      <th>1</th>\n",
       "      <td>1</td>\n",
       "      <td>Albania</td>\n",
       "      <td>ALB</td>\n",
       "      <td>14730</td>\n",
       "      <td>407</td>\n",
       "      <td>27.63</td>\n",
       "      <td>2862427.0</td>\n",
       "      <td>514.60</td>\n",
       "      <td>14.22</td>\n",
       "      <td>13.019693</td>\n",
       "      <td>15.147021</td>\n",
       "      <td>15.278077</td>\n",
       "      <td>Tirana</td>\n",
       "      <td>41.3275</td>\n",
       "      <td>19.8189</td>\n",
       "    </tr>\n",
       "    <tr>\n",
       "      <th>2</th>\n",
       "      <td>2</td>\n",
       "      <td>Algeria</td>\n",
       "      <td>DZA</td>\n",
       "      <td>52520</td>\n",
       "      <td>1779</td>\n",
       "      <td>33.87</td>\n",
       "      <td>43053054.0</td>\n",
       "      <td>121.99</td>\n",
       "      <td>4.13</td>\n",
       "      <td>167.000000</td>\n",
       "      <td>174.000000</td>\n",
       "      <td>170.000000</td>\n",
       "      <td>Algiers</td>\n",
       "      <td>36.7631</td>\n",
       "      <td>3.0506</td>\n",
       "    </tr>\n",
       "    <tr>\n",
       "      <th>3</th>\n",
       "      <td>3</td>\n",
       "      <td>Andorra</td>\n",
       "      <td>AND</td>\n",
       "      <td>2568</td>\n",
       "      <td>53</td>\n",
       "      <td>20.64</td>\n",
       "      <td>76177.0</td>\n",
       "      <td>3371.10</td>\n",
       "      <td>69.57</td>\n",
       "      <td>3.000181</td>\n",
       "      <td>3.218316</td>\n",
       "      <td>3.154058</td>\n",
       "      <td>Andorra la Vella</td>\n",
       "      <td>42.5</td>\n",
       "      <td>1.5165</td>\n",
       "    </tr>\n",
       "    <tr>\n",
       "      <th>4</th>\n",
       "      <td>4</td>\n",
       "      <td>Angola</td>\n",
       "      <td>AGO</td>\n",
       "      <td>5725</td>\n",
       "      <td>211</td>\n",
       "      <td>36.86</td>\n",
       "      <td>31825299.0</td>\n",
       "      <td>17.99</td>\n",
       "      <td>0.66</td>\n",
       "      <td>122.000000</td>\n",
       "      <td>101.000000</td>\n",
       "      <td>94.635416</td>\n",
       "      <td>Luanda</td>\n",
       "      <td>-8.8383</td>\n",
       "      <td>13.2344</td>\n",
       "    </tr>\n",
       "  </tbody>\n",
       "</table>\n",
       "</div>"
      ],
      "text/plain": [
       "   Unnamed: 0      Country Country Code  Cases  Deaths  Deaths per 1000 Cases  \\\n",
       "0           0  Afghanistan          AFG  39616    1470                  37.11   \n",
       "1           1      Albania          ALB  14730     407                  27.63   \n",
       "2           2      Algeria          DZA  52520    1779                  33.87   \n",
       "3           3      Andorra          AND   2568      53                  20.64   \n",
       "4           4       Angola          AGO   5725     211                  36.86   \n",
       "\n",
       "   Population 2019  Cases per 100,000 People  Deaths per 100,000 People  \\\n",
       "0       38041757.0                    104.14                       3.86   \n",
       "1        2862427.0                    514.60                      14.22   \n",
       "2       43053054.0                    121.99                       4.13   \n",
       "3          76177.0                   3371.10                      69.57   \n",
       "4       31825299.0                     17.99                       0.66   \n",
       "\n",
       "   2017 GDP in Billions  2018 GDP in Billions  2019 GDP in Billions  \\\n",
       "0             20.191760             19.484385             19.101354   \n",
       "1             13.019693             15.147021             15.278077   \n",
       "2            167.000000            174.000000            170.000000   \n",
       "3              3.000181              3.218316              3.154058   \n",
       "4            122.000000            101.000000             94.635416   \n",
       "\n",
       "            Capital Latitude Longitude  \n",
       "0             Kabul  34.5167   69.1833  \n",
       "1            Tirana  41.3275   19.8189  \n",
       "2           Algiers  36.7631    3.0506  \n",
       "3  Andorra la Vella     42.5    1.5165  \n",
       "4            Luanda  -8.8383   13.2344  "
      ]
     },
     "execution_count": 1,
     "metadata": {},
     "output_type": "execute_result"
    }
   ],
   "source": [
    "#Import dependencies\n",
    "import matplotlib.pyplot as plt\n",
    "import pandas as pd\n",
    "import scipy.stats as st\n",
    "import numpy as np\n",
    "from scipy.stats import linregress\n",
    "\n",
    "data_path = \"Resources/COVID_final_data.csv\"\n",
    "\n",
    "\n",
    "data = pd.read_csv(data_path)\n",
    "\n",
    "data.head()"
   ]
  },
  {
   "cell_type": "code",
   "execution_count": 2,
   "metadata": {},
   "outputs": [
    {
     "data": {
      "text/html": [
       "<div>\n",
       "<style scoped>\n",
       "    .dataframe tbody tr th:only-of-type {\n",
       "        vertical-align: middle;\n",
       "    }\n",
       "\n",
       "    .dataframe tbody tr th {\n",
       "        vertical-align: top;\n",
       "    }\n",
       "\n",
       "    .dataframe thead th {\n",
       "        text-align: right;\n",
       "    }\n",
       "</style>\n",
       "<table border=\"1\" class=\"dataframe\">\n",
       "  <thead>\n",
       "    <tr style=\"text-align: right;\">\n",
       "      <th></th>\n",
       "      <th>Country</th>\n",
       "      <th>Cases</th>\n",
       "      <th>Deaths</th>\n",
       "      <th>Deaths per 1000 Cases</th>\n",
       "      <th>Population 2019</th>\n",
       "      <th>Latitude</th>\n",
       "    </tr>\n",
       "  </thead>\n",
       "  <tbody>\n",
       "    <tr>\n",
       "      <th>0</th>\n",
       "      <td>Afghanistan</td>\n",
       "      <td>39616</td>\n",
       "      <td>1470</td>\n",
       "      <td>37.11</td>\n",
       "      <td>38041757.0</td>\n",
       "      <td>34.5167</td>\n",
       "    </tr>\n",
       "    <tr>\n",
       "      <th>1</th>\n",
       "      <td>Albania</td>\n",
       "      <td>14730</td>\n",
       "      <td>407</td>\n",
       "      <td>27.63</td>\n",
       "      <td>2862427.0</td>\n",
       "      <td>41.3275</td>\n",
       "    </tr>\n",
       "    <tr>\n",
       "      <th>2</th>\n",
       "      <td>Algeria</td>\n",
       "      <td>52520</td>\n",
       "      <td>1779</td>\n",
       "      <td>33.87</td>\n",
       "      <td>43053054.0</td>\n",
       "      <td>36.7631</td>\n",
       "    </tr>\n",
       "    <tr>\n",
       "      <th>3</th>\n",
       "      <td>Andorra</td>\n",
       "      <td>2568</td>\n",
       "      <td>53</td>\n",
       "      <td>20.64</td>\n",
       "      <td>76177.0</td>\n",
       "      <td>42.5</td>\n",
       "    </tr>\n",
       "    <tr>\n",
       "      <th>4</th>\n",
       "      <td>Angola</td>\n",
       "      <td>5725</td>\n",
       "      <td>211</td>\n",
       "      <td>36.86</td>\n",
       "      <td>31825299.0</td>\n",
       "      <td>-8.8383</td>\n",
       "    </tr>\n",
       "  </tbody>\n",
       "</table>\n",
       "</div>"
      ],
      "text/plain": [
       "       Country  Cases  Deaths  Deaths per 1000 Cases  Population 2019 Latitude\n",
       "0  Afghanistan  39616    1470                  37.11       38041757.0  34.5167\n",
       "1      Albania  14730     407                  27.63        2862427.0  41.3275\n",
       "2      Algeria  52520    1779                  33.87       43053054.0  36.7631\n",
       "3      Andorra   2568      53                  20.64          76177.0     42.5\n",
       "4       Angola   5725     211                  36.86       31825299.0  -8.8383"
      ]
     },
     "execution_count": 2,
     "metadata": {},
     "output_type": "execute_result"
    }
   ],
   "source": [
    "subset = data[['Country', 'Cases', 'Deaths', 'Deaths per 1000 Cases', 'Population 2019', 'Latitude']]\n",
    "subset.head()"
   ]
  },
  {
   "cell_type": "code",
   "execution_count": 3,
   "metadata": {},
   "outputs": [
    {
     "name": "stderr",
     "output_type": "stream",
     "text": [
      "C:\\Users\\Adam\\anaconda3\\envs\\PythonData\\lib\\site-packages\\ipykernel_launcher.py:3: SettingWithCopyWarning: \n",
      "A value is trying to be set on a copy of a slice from a DataFrame.\n",
      "Try using .loc[row_indexer,col_indexer] = value instead\n",
      "\n",
      "See the caveats in the documentation: https://pandas.pydata.org/pandas-docs/stable/user_guide/indexing.html#returning-a-view-versus-a-copy\n",
      "  This is separate from the ipykernel package so we can avoid doing imports until\n"
     ]
    },
    {
     "data": {
      "text/html": [
       "<div>\n",
       "<style scoped>\n",
       "    .dataframe tbody tr th:only-of-type {\n",
       "        vertical-align: middle;\n",
       "    }\n",
       "\n",
       "    .dataframe tbody tr th {\n",
       "        vertical-align: top;\n",
       "    }\n",
       "\n",
       "    .dataframe thead th {\n",
       "        text-align: right;\n",
       "    }\n",
       "</style>\n",
       "<table border=\"1\" class=\"dataframe\">\n",
       "  <thead>\n",
       "    <tr style=\"text-align: right;\">\n",
       "      <th></th>\n",
       "      <th>Country</th>\n",
       "      <th>Cases</th>\n",
       "      <th>Deaths</th>\n",
       "      <th>Deaths per 1000 Cases</th>\n",
       "      <th>Population 2019</th>\n",
       "      <th>Latitude</th>\n",
       "      <th>Population Range</th>\n",
       "    </tr>\n",
       "  </thead>\n",
       "  <tbody>\n",
       "    <tr>\n",
       "      <th>0</th>\n",
       "      <td>Afghanistan</td>\n",
       "      <td>39616</td>\n",
       "      <td>1470</td>\n",
       "      <td>37.11</td>\n",
       "      <td>38041757.0</td>\n",
       "      <td>34.5167</td>\n",
       "      <td>35m-79.9m</td>\n",
       "    </tr>\n",
       "    <tr>\n",
       "      <th>1</th>\n",
       "      <td>Albania</td>\n",
       "      <td>14730</td>\n",
       "      <td>407</td>\n",
       "      <td>27.63</td>\n",
       "      <td>2862427.0</td>\n",
       "      <td>41.3275</td>\n",
       "      <td>2.4m-4.94m</td>\n",
       "    </tr>\n",
       "    <tr>\n",
       "      <th>2</th>\n",
       "      <td>Algeria</td>\n",
       "      <td>52520</td>\n",
       "      <td>1779</td>\n",
       "      <td>33.87</td>\n",
       "      <td>43053054.0</td>\n",
       "      <td>36.7631</td>\n",
       "      <td>35m-79.9m</td>\n",
       "    </tr>\n",
       "    <tr>\n",
       "      <th>3</th>\n",
       "      <td>Andorra</td>\n",
       "      <td>2568</td>\n",
       "      <td>53</td>\n",
       "      <td>20.64</td>\n",
       "      <td>76177.0</td>\n",
       "      <td>42.5</td>\n",
       "      <td>&lt;110k</td>\n",
       "    </tr>\n",
       "    <tr>\n",
       "      <th>4</th>\n",
       "      <td>Angola</td>\n",
       "      <td>5725</td>\n",
       "      <td>211</td>\n",
       "      <td>36.86</td>\n",
       "      <td>31825299.0</td>\n",
       "      <td>-8.8383</td>\n",
       "      <td>20m-34.9m</td>\n",
       "    </tr>\n",
       "  </tbody>\n",
       "</table>\n",
       "</div>"
      ],
      "text/plain": [
       "       Country  Cases  Deaths  Deaths per 1000 Cases  Population 2019  \\\n",
       "0  Afghanistan  39616    1470                  37.11       38041757.0   \n",
       "1      Albania  14730     407                  27.63        2862427.0   \n",
       "2      Algeria  52520    1779                  33.87       43053054.0   \n",
       "3      Andorra   2568      53                  20.64          76177.0   \n",
       "4       Angola   5725     211                  36.86       31825299.0   \n",
       "\n",
       "  Latitude Population Range  \n",
       "0  34.5167        35m-79.9m  \n",
       "1  41.3275       2.4m-4.94m  \n",
       "2  36.7631        35m-79.9m  \n",
       "3     42.5            <110k  \n",
       "4  -8.8383        20m-34.9m  "
      ]
     },
     "execution_count": 3,
     "metadata": {},
     "output_type": "execute_result"
    }
   ],
   "source": [
    "bins = [0, 109999, 799999, 2399999, 4949999, 8499999, 11499999, 18999999, 34999999, 79999999, 1500000000]\n",
    "pop_ranges = ['<110k', '110k-799k','800k-2.39m', '2.4m-4.94m', '4.95m-8.49m', '8.5m-11.49m', '11.5m-18.9m', '20m-34.9m', '35m-79.9m', '70m-1.5b']\n",
    "subset['Population Range'] = pd.cut(subset['Population 2019'], bins, labels=pop_ranges, include_lowest=True)\n",
    "subset.head()"
   ]
  },
  {
   "cell_type": "code",
   "execution_count": 4,
   "metadata": {},
   "outputs": [
    {
     "data": {
      "text/plain": [
       "0      34.5167\n",
       "1      41.3275\n",
       "2      36.7631\n",
       "3      42.5000\n",
       "4      -8.8383\n",
       "        ...   \n",
       "194    10.5010\n",
       "195    21.0333\n",
       "196    15.3547\n",
       "197   -15.4166\n",
       "198   -17.8178\n",
       "Name: Latitude, Length: 185, dtype: float64"
      ]
     },
     "execution_count": 4,
     "metadata": {},
     "output_type": "execute_result"
    }
   ],
   "source": [
    "subset = subset.loc[subset['Latitude'] != 'Not Available']\n",
    "subset['Latitude'].astype(float)\n"
   ]
  },
  {
   "cell_type": "code",
   "execution_count": 5,
   "metadata": {},
   "outputs": [],
   "source": [
    "pop_range = '70m-1.5b'\n",
    "\n",
    "group = subset.loc[(subset['Population Range'] == f'{pop_range}')]\n",
    "group_lat = group['Latitude'].sort_values()\n",
    "group_lat_abs = group['Latitude'].apply(lambda x: float(x)).abs()\n",
    "\n",
    "group_cases = group['Cases']\n",
    "group_deaths = group['Deaths']\n",
    "group_dp1k = group['Deaths per 1000 Cases']"
   ]
  },
  {
   "cell_type": "code",
   "execution_count": 16,
   "metadata": {},
   "outputs": [
    {
     "data": {
      "image/png": "[encoded data removed]",
      "text/plain": [
       "<Figure size 432x288 with 1 Axes>"
      ]
     },
     "metadata": {
      "needs_background": "light"
     },
     "output_type": "display_data"
    },
    {
     "name": "stdout",
     "output_type": "stream",
     "text": [
      "r-squared : 0.02\n",
      "Correlation Coefficient : 0.12\n",
      "-------------------------------------------------------\n"
     ]
    },
    {
     "data": {
      "image/png": "[encoded data removed]",
      "text/plain": [
       "<Figure size 432x288 with 1 Axes>"
      ]
     },
     "metadata": {
      "needs_background": "light"
     },
     "output_type": "display_data"
    },
    {
     "name": "stdout",
     "output_type": "stream",
     "text": [
      "r-squared : 0.01\n",
      "Correlation Coefficient : 0.08\n",
      "-------------------------------------------------------\n"
     ]
    },
    {
     "data": {
      "image/png": "[encoded data removed]",
      "text/plain": [
       "<Figure size 432x288 with 1 Axes>"
      ]
     },
     "metadata": {
      "needs_background": "light"
     },
     "output_type": "display_data"
    },
    {
     "name": "stdout",
     "output_type": "stream",
     "text": [
      "r-squared : 0.0\n",
      "Correlation Coefficient : 0.01\n"
     ]
    }
   ],
   "source": [
    "# pop_range = '70m-1.5b'\n",
    "\n",
    "# group = subset.loc[(subset['Population Range'] == f'{pop_range}')]\n",
    "# group_lat = group['Latitude'].sort_values()\n",
    "# group_lat_abs = group['Latitude'].apply(lambda x: float(x)).abs()\n",
    "\n",
    "# group_cases = group['Cases']\n",
    "# group_deaths = group['Deaths']\n",
    "# group_dp1k = group['Deaths per 1000 Cases']\n",
    "\n",
    "\n",
    "\n",
    "# plt.scatter(group_lat_abs, group_cases)\n",
    "# plt.xlabel('Latitude Absolute Value')\n",
    "# plt.ylabel('Total Cases')\n",
    "# plt.title(f'Cases by Latitude (absolute value) for {pop_range}')\n",
    "\n",
    "\n",
    "# slope, intercept, r, p, std_err = st.linregress(group_lat_abs, group_cases)\n",
    "# fit = slope * group_lat_abs + intercept\n",
    "# plt.plot(group_lat_abs,fit,color='r')\n",
    "\n",
    "# plt.tight_layout()\n",
    "# plt.show()\n",
    "\n",
    "# print(f\"r-squared : {(round(r**2,2))}\")\n",
    "# print(f\"Correlation Coefficient : {round(st.pearsonr(group_lat_abs,group_cases)[0],2)}\")\n",
    "# print('-------------------------------------------------------')\n",
    "# #-------------------------------------------------------------------------------------------------------------------------\n",
    "\n",
    "# plt.scatter(group_lat_abs, group_deaths)\n",
    "# plt.xlabel('Latitude Absolute Value')\n",
    "# plt.ylabel('Total Deaths')\n",
    "# plt.title(f'Deaths by Latitude (absolute value) for {pop_range}')\n",
    "\n",
    "\n",
    "# slope, intercept, r, p, std_err = st.linregress(group_lat_abs, group_deaths)\n",
    "# fit = slope * group_lat_abs + intercept\n",
    "# plt.plot(group_lat_abs,fit,color='r')\n",
    "\n",
    "\n",
    "# plt.tight_layout()\n",
    "# plt.show()\n",
    "\n",
    "# print(f\"r-squared : {(round(r**2,2))}\")\n",
    "# print(f\"Correlation Coefficient : {round(st.pearsonr(group_lat_abs,group_deaths)[0],2)}\")\n",
    "# print('-------------------------------------------------------')\n",
    "# #-------------------------------------------------------------------------------------------------------------------------\n",
    "\n",
    "# plt.scatter(group_lat_abs, group_dp1k)\n",
    "# plt.xlabel('Latitude Absolute Value')\n",
    "# plt.ylabel('Deaths (per 1k Cases)')\n",
    "# plt.title(f'Deaths (per 1k Cases) by Latitude (absolute value) for {pop_range}')\n",
    "\n",
    "\n",
    "# slope, intercept, r, p, std_err = st.linregress(group_lat_abs, group_dp1k)\n",
    "# fit = slope * group_lat_abs + intercept\n",
    "# plt.plot(group_lat_abs,fit,color='r')\n",
    "\n",
    "\n",
    "# plt.tight_layout()\n",
    "# plt.show()\n",
    "\n",
    " \n",
    "# print(f\"r-squared : {round(r**2,2)}\")\n",
    "# print(f\"Correlation Coefficient : {round(st.pearsonr(group_lat_abs,group_dp1k)[0],2)}\")\n"
   ]
  },
  {
   "cell_type": "code",
   "execution_count": 17,
   "metadata": {},
   "outputs": [
    {
     "data": {
      "image/png": "[encoded data removed]",
      "text/plain": [
       "<Figure size 432x288 with 1 Axes>"
      ]
     },
     "metadata": {
      "needs_background": "light"
     },
     "output_type": "display_data"
    },
    {
     "name": "stdout",
     "output_type": "stream",
     "text": [
      "r-squared : 0.02\n",
      "Correlation Coefficient : 0.12\n"
     ]
    }
   ],
   "source": [
    "plt.scatter(group_lat_abs, group_cases)\n",
    "plt.xlabel('Latitude Absolute Value')\n",
    "plt.ylabel('Total Cases')\n",
    "plt.title(f'Cases by Latitude (absolute value) for {pop_range}')\n",
    "\n",
    "\n",
    "slope, intercept, r, p, std_err = st.linregress(group_lat_abs, group_cases)\n",
    "fit = slope * group_lat_abs + intercept\n",
    "plt.plot(group_lat_abs,fit,color='r')\n",
    "\n",
    "plt.tight_layout()\n",
    "plt.show()\n",
    "\n",
    "print(f\"r-squared : {(round(r**2,2))}\")\n",
    "print(f\"Correlation Coefficient : {round(st.pearsonr(group_lat_abs,group_cases)[0],2)}\")"
   ]
  },
  {
   "cell_type": "code",
   "execution_count": 18,
   "metadata": {},
   "outputs": [
    {
     "name": "stdout",
     "output_type": "stream",
     "text": [
      "r-squared : 0.01\n",
      "Correlation Coefficient : 0.08\n"
     ]
    },
    {
     "data": {
      "image/png": "[encoded data removed]",
      "text/plain": [
       "<Figure size 432x288 with 1 Axes>"
      ]
     },
     "metadata": {
      "needs_background": "light"
     },
     "output_type": "display_data"
    }
   ],
   "source": [
    "plt.scatter(group_lat_abs, group_deaths)\n",
    "plt.xlabel('Latitude Absolute Value')\n",
    "plt.ylabel('Total Deaths')\n",
    "plt.title(f'Deaths by Latitude (absolute value) for {pop_range}')\n",
    "\n",
    "\n",
    "slope, intercept, r, p, std_err = st.linregress(group_lat_abs, group_deaths)\n",
    "fit = slope * group_lat_abs + intercept\n",
    "plt.plot(group_lat_abs,fit,color='r')\n",
    "\n",
    "\n",
    "plt.tight_layout()\n",
    "plt.show()\n",
    "\n",
    "\n",
    "print(f\"r-squared : {(round(r**2,2))}\")\n",
    "print(f\"Correlation Coefficient : {round(st.pearsonr(group_lat_abs,group_deaths)[0],2)}\")"
   ]
  },
  {
   "cell_type": "code",
   "execution_count": 22,
   "metadata": {},
   "outputs": [
    {
     "data": {
      "image/png": "[encoded data removed]",
      "text/plain": [
       "<Figure size 432x288 with 1 Axes>"
      ]
     },
     "metadata": {
      "needs_background": "light"
     },
     "output_type": "display_data"
    },
    {
     "name": "stdout",
     "output_type": "stream",
     "text": [
      "r-squared : 0.0\n",
      "Correlation Coefficient : 0.01\n"
     ]
    }
   ],
   "source": [
    "plt.scatter(group_lat_abs, group_dp1k)\n",
    "plt.xlabel('Latitude Absolute Value')\n",
    "plt.ylabel('Deaths (per 1k Cases)')\n",
    "plt.title(f'Deaths (per 1k Cases) by Latitude (absolute value) for {pop_range}')\n",
    "\n",
    "\n",
    "slope, intercept, r, p, std_err = st.linregress(group_lat_abs, group_dp1k)\n",
    "fit = slope * group_lat_abs + intercept\n",
    "plt.plot(group_lat_abs,fit,color='r')\n",
    "\n",
    "\n",
    "plt.tight_layout()\n",
    "plt.show()\n",
    "\n",
    " \n",
    "print(f\"r-squared : {round(r**2,2)}\")\n",
    "print(f\"Correlation Coefficient : {round(st.pearsonr(group_lat_abs,group_dp1k)[0],2)}\")\n"
   ]
  },
  {
   "cell_type": "code",
   "execution_count": 20,
   "metadata": {},
   "outputs": [],
   "source": [
    "pop_group = subset.groupby('Population Range')\n",
    "avg_deaths = pop_group['Deaths per 1000 Cases'].mean()"
   ]
  },
  {
   "cell_type": "code",
   "execution_count": 10,
   "metadata": {},
   "outputs": [
    {
     "data": {
      "image/png": "[encoded data removed]",
      "text/plain": [
       "<Figure size 432x288 with 1 Axes>"
      ]
     },
     "metadata": {
      "needs_background": "light"
     },
     "output_type": "display_data"
    }
   ],
   "source": [
    "avg_deaths.plot(kind='bar')\n",
    "plt.xlabel('Population Range')\n",
    "plt.ylabel('Mortality Rate (deaths per 1000 cases)')\n",
    "plt.title('Mortality Rate by Population Range')\n",
    "plt.xticks(rotation=45)\n",
    "plt.show()"
   ]
  },
  {
   "cell_type": "code",
   "execution_count": null,
   "metadata": {},
   "outputs": [],
   "source": [
    "the biiiiiiig commented out section is basically what I am interested in turning\n",
    "into a loop of some kind - it prolly wouldn't all need to be in there, but a for loop \n",
    "that runs that same code for each of the population ranges and stores the correlation coefficient \n",
    "for each in three lists (one each for cases, deaths, mortality rate) so we can then compare those.\n",
    "\n",
    "For loops are kinda my nemises tho, so I have almsot no idea of how to do it. If you are looking \n",
    "for something new to work on, maybe give it a try?"
   ]
  }
 ],
 "metadata": {
  "kernelspec": {
   "display_name": "Python [conda env:PythonData] *",
   "language": "python",
   "name": "conda-env-PythonData-py"
  },
  "language_info": {
   "codemirror_mode": {
    "name": "ipython",
    "version": 3
   },
   "file_extension": ".py",
   "mimetype": "text/x-python",
   "name": "python",
   "nbconvert_exporter": "python",
   "pygments_lexer": "ipython3",
   "version": "3.6.10"
  }
 },
 "nbformat": 4,
 "nbformat_minor": 4
}
