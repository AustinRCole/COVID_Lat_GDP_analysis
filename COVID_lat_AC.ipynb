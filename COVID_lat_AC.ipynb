{
 "cells": [
  {
   "cell_type": "code",
   "execution_count": 32,
   "metadata": {},
   "outputs": [
    {
     "data": {
      "text/html": [
       "<div>\n",
       "<style scoped>\n",
       "    .dataframe tbody tr th:only-of-type {\n",
       "        vertical-align: middle;\n",
       "    }\n",
       "\n",
       "    .dataframe tbody tr th {\n",
       "        vertical-align: top;\n",
       "    }\n",
       "\n",
       "    .dataframe thead th {\n",
       "        text-align: right;\n",
       "    }\n",
       "</style>\n",
       "<table border=\"1\" class=\"dataframe\">\n",
       "  <thead>\n",
       "    <tr style=\"text-align: right;\">\n",
       "      <th></th>\n",
       "      <th>Unnamed: 0</th>\n",
       "      <th>Country</th>\n",
       "      <th>Country Code</th>\n",
       "      <th>Cases</th>\n",
       "      <th>Deaths</th>\n",
       "      <th>Deaths per 1000 Cases</th>\n",
       "      <th>Population 2019</th>\n",
       "      <th>Cases per 100,000 People</th>\n",
       "      <th>Deaths per 100,000 People</th>\n",
       "      <th>2017 GDP in Billions</th>\n",
       "      <th>2018 GDP in Billions</th>\n",
       "      <th>2019 GDP in Billions</th>\n",
       "      <th>Capital</th>\n",
       "      <th>Latitude</th>\n",
       "    </tr>\n",
       "  </thead>\n",
       "  <tbody>\n",
       "    <tr>\n",
       "      <th>0</th>\n",
       "      <td>0</td>\n",
       "      <td>Afghanistan</td>\n",
       "      <td>AFG</td>\n",
       "      <td>39616</td>\n",
       "      <td>1470</td>\n",
       "      <td>37.11</td>\n",
       "      <td>38041757.0</td>\n",
       "      <td>104.14</td>\n",
       "      <td>3.86</td>\n",
       "      <td>20.191760</td>\n",
       "      <td>19.484385</td>\n",
       "      <td>19.101354</td>\n",
       "      <td>Kabul</td>\n",
       "      <td>34.5167</td>\n",
       "    </tr>\n",
       "    <tr>\n",
       "      <th>1</th>\n",
       "      <td>1</td>\n",
       "      <td>Albania</td>\n",
       "      <td>ALB</td>\n",
       "      <td>14730</td>\n",
       "      <td>407</td>\n",
       "      <td>27.63</td>\n",
       "      <td>2862427.0</td>\n",
       "      <td>514.60</td>\n",
       "      <td>14.22</td>\n",
       "      <td>13.019693</td>\n",
       "      <td>15.147021</td>\n",
       "      <td>15.278077</td>\n",
       "      <td>Tirana</td>\n",
       "      <td>41.3275</td>\n",
       "    </tr>\n",
       "    <tr>\n",
       "      <th>2</th>\n",
       "      <td>2</td>\n",
       "      <td>Algeria</td>\n",
       "      <td>DZA</td>\n",
       "      <td>52520</td>\n",
       "      <td>1779</td>\n",
       "      <td>33.87</td>\n",
       "      <td>43053054.0</td>\n",
       "      <td>121.99</td>\n",
       "      <td>4.13</td>\n",
       "      <td>167.389000</td>\n",
       "      <td>173.758000</td>\n",
       "      <td>169.988000</td>\n",
       "      <td>Algiers</td>\n",
       "      <td>36.7631</td>\n",
       "    </tr>\n",
       "    <tr>\n",
       "      <th>3</th>\n",
       "      <td>3</td>\n",
       "      <td>Andorra</td>\n",
       "      <td>AND</td>\n",
       "      <td>2568</td>\n",
       "      <td>53</td>\n",
       "      <td>20.64</td>\n",
       "      <td>76177.0</td>\n",
       "      <td>3371.10</td>\n",
       "      <td>69.57</td>\n",
       "      <td>3.000181</td>\n",
       "      <td>3.218316</td>\n",
       "      <td>3.154058</td>\n",
       "      <td>Andorra la Vella</td>\n",
       "      <td>42.5</td>\n",
       "    </tr>\n",
       "    <tr>\n",
       "      <th>4</th>\n",
       "      <td>4</td>\n",
       "      <td>Angola</td>\n",
       "      <td>AGO</td>\n",
       "      <td>5725</td>\n",
       "      <td>211</td>\n",
       "      <td>36.86</td>\n",
       "      <td>31825299.0</td>\n",
       "      <td>17.99</td>\n",
       "      <td>0.66</td>\n",
       "      <td>122.124000</td>\n",
       "      <td>101.353000</td>\n",
       "      <td>94.635416</td>\n",
       "      <td>Luanda</td>\n",
       "      <td>-8.8383</td>\n",
       "    </tr>\n",
       "    <tr>\n",
       "      <th>...</th>\n",
       "      <td>...</td>\n",
       "      <td>...</td>\n",
       "      <td>...</td>\n",
       "      <td>...</td>\n",
       "      <td>...</td>\n",
       "      <td>...</td>\n",
       "      <td>...</td>\n",
       "      <td>...</td>\n",
       "      <td>...</td>\n",
       "      <td>...</td>\n",
       "      <td>...</td>\n",
       "      <td>...</td>\n",
       "      <td>...</td>\n",
       "      <td>...</td>\n",
       "    </tr>\n",
       "    <tr>\n",
       "      <th>180</th>\n",
       "      <td>194</td>\n",
       "      <td>Venezuela, RB</td>\n",
       "      <td>VEN</td>\n",
       "      <td>80404</td>\n",
       "      <td>671</td>\n",
       "      <td>8.35</td>\n",
       "      <td>28515829.0</td>\n",
       "      <td>281.96</td>\n",
       "      <td>2.35</td>\n",
       "      <td>0.000000</td>\n",
       "      <td>0.000000</td>\n",
       "      <td>0.000000</td>\n",
       "      <td>Caracas</td>\n",
       "      <td>10.501</td>\n",
       "    </tr>\n",
       "    <tr>\n",
       "      <th>181</th>\n",
       "      <td>195</td>\n",
       "      <td>Vietnam</td>\n",
       "      <td>VNM</td>\n",
       "      <td>1099</td>\n",
       "      <td>35</td>\n",
       "      <td>31.85</td>\n",
       "      <td>96462108.0</td>\n",
       "      <td>1.14</td>\n",
       "      <td>0.04</td>\n",
       "      <td>223.780000</td>\n",
       "      <td>245.214000</td>\n",
       "      <td>261.921000</td>\n",
       "      <td>Hanoi</td>\n",
       "      <td>21.0333</td>\n",
       "    </tr>\n",
       "    <tr>\n",
       "      <th>182</th>\n",
       "      <td>196</td>\n",
       "      <td>Yemen, Rep.</td>\n",
       "      <td>YEM</td>\n",
       "      <td>2053</td>\n",
       "      <td>594</td>\n",
       "      <td>289.33</td>\n",
       "      <td>29161922.0</td>\n",
       "      <td>7.04</td>\n",
       "      <td>2.04</td>\n",
       "      <td>24.561328</td>\n",
       "      <td>27.591262</td>\n",
       "      <td>0.000000</td>\n",
       "      <td>Sanaa</td>\n",
       "      <td>15.3547</td>\n",
       "    </tr>\n",
       "    <tr>\n",
       "      <th>183</th>\n",
       "      <td>197</td>\n",
       "      <td>Zambia</td>\n",
       "      <td>ZMB</td>\n",
       "      <td>15224</td>\n",
       "      <td>334</td>\n",
       "      <td>21.94</td>\n",
       "      <td>17861034.0</td>\n",
       "      <td>85.24</td>\n",
       "      <td>1.87</td>\n",
       "      <td>25.868142</td>\n",
       "      <td>27.005239</td>\n",
       "      <td>23.064722</td>\n",
       "      <td>Lusaka</td>\n",
       "      <td>-15.4166</td>\n",
       "    </tr>\n",
       "    <tr>\n",
       "      <th>184</th>\n",
       "      <td>198</td>\n",
       "      <td>Zimbabwe</td>\n",
       "      <td>ZWE</td>\n",
       "      <td>7919</td>\n",
       "      <td>229</td>\n",
       "      <td>28.92</td>\n",
       "      <td>14645473.0</td>\n",
       "      <td>54.07</td>\n",
       "      <td>1.56</td>\n",
       "      <td>22.040902</td>\n",
       "      <td>24.311561</td>\n",
       "      <td>21.440759</td>\n",
       "      <td>Harare</td>\n",
       "      <td>-17.8178</td>\n",
       "    </tr>\n",
       "  </tbody>\n",
       "</table>\n",
       "<p>185 rows × 14 columns</p>\n",
       "</div>"
      ],
      "text/plain": [
       "     Unnamed: 0        Country Country Code  Cases  Deaths  \\\n",
       "0             0    Afghanistan          AFG  39616    1470   \n",
       "1             1        Albania          ALB  14730     407   \n",
       "2             2        Algeria          DZA  52520    1779   \n",
       "3             3        Andorra          AND   2568      53   \n",
       "4             4         Angola          AGO   5725     211   \n",
       "..          ...            ...          ...    ...     ...   \n",
       "180         194  Venezuela, RB          VEN  80404     671   \n",
       "181         195        Vietnam          VNM   1099      35   \n",
       "182         196    Yemen, Rep.          YEM   2053     594   \n",
       "183         197         Zambia          ZMB  15224     334   \n",
       "184         198       Zimbabwe          ZWE   7919     229   \n",
       "\n",
       "     Deaths per 1000 Cases  Population 2019  Cases per 100,000 People  \\\n",
       "0                    37.11       38041757.0                    104.14   \n",
       "1                    27.63        2862427.0                    514.60   \n",
       "2                    33.87       43053054.0                    121.99   \n",
       "3                    20.64          76177.0                   3371.10   \n",
       "4                    36.86       31825299.0                     17.99   \n",
       "..                     ...              ...                       ...   \n",
       "180                   8.35       28515829.0                    281.96   \n",
       "181                  31.85       96462108.0                      1.14   \n",
       "182                 289.33       29161922.0                      7.04   \n",
       "183                  21.94       17861034.0                     85.24   \n",
       "184                  28.92       14645473.0                     54.07   \n",
       "\n",
       "     Deaths per 100,000 People  2017 GDP in Billions  2018 GDP in Billions  \\\n",
       "0                         3.86             20.191760             19.484385   \n",
       "1                        14.22             13.019693             15.147021   \n",
       "2                         4.13            167.389000            173.758000   \n",
       "3                        69.57              3.000181              3.218316   \n",
       "4                         0.66            122.124000            101.353000   \n",
       "..                         ...                   ...                   ...   \n",
       "180                       2.35              0.000000              0.000000   \n",
       "181                       0.04            223.780000            245.214000   \n",
       "182                       2.04             24.561328             27.591262   \n",
       "183                       1.87             25.868142             27.005239   \n",
       "184                       1.56             22.040902             24.311561   \n",
       "\n",
       "     2019 GDP in Billions           Capital  Latitude  \n",
       "0               19.101354             Kabul   34.5167  \n",
       "1               15.278077            Tirana   41.3275  \n",
       "2              169.988000           Algiers   36.7631  \n",
       "3                3.154058  Andorra la Vella      42.5  \n",
       "4               94.635416            Luanda   -8.8383  \n",
       "..                    ...               ...       ...  \n",
       "180              0.000000           Caracas    10.501  \n",
       "181            261.921000             Hanoi   21.0333  \n",
       "182              0.000000             Sanaa   15.3547  \n",
       "183             23.064722            Lusaka  -15.4166  \n",
       "184             21.440759            Harare  -17.8178  \n",
       "\n",
       "[185 rows x 14 columns]"
      ]
     },
     "execution_count": 32,
     "metadata": {},
     "output_type": "execute_result"
    }
   ],
   "source": [
    "import matplotlib.pyplot as plt\n",
    "import pandas as pd\n",
    "import scipy.stats as st\n",
    "import numpy as np\n",
    "from scipy.stats import linregress\n",
    "\n",
    "path = \"Resources/COVID_final_data.csv\"\n",
    "\n",
    "data = pd.read_csv(path)\n",
    "data_lat = data[data.Latitude !='Not Available'].reset_index(drop=True)\n",
    "data_lat"
   ]
  },
  {
   "cell_type": "code",
   "execution_count": 52,
   "metadata": {},
   "outputs": [
    {
     "data": {
      "image/png": "[encoded data removed]",
      "text/plain": [
       "<Figure size 432x288 with 1 Axes>"
      ]
     },
     "metadata": {
      "needs_background": "light"
     },
     "output_type": "display_data"
    }
   ],
   "source": [
    "lat_abs = data_lat['Latitude'].apply(lambda x: float(x)).abs()\n",
    "plt.scatter(lat_abs,data_lat['Cases'],marker=\"o\")\n",
    "plt.xlabel('Degrees from the Equator')\n",
    "plt.ylabel('Cases in Millions')\n",
    "plt.ylim(0,1000000)\n",
    "plt.show()"
   ]
  },
  {
   "cell_type": "code",
   "execution_count": 62,
   "metadata": {},
   "outputs": [
    {
     "name": "stdout",
     "output_type": "stream",
     "text": [
      "r=0.0593\n"
     ]
    },
    {
     "data": {
      "image/png": "[encoded data removed]",
      "text/plain": [
       "<Figure size 432x288 with 1 Axes>"
      ]
     },
     "metadata": {
      "needs_background": "light"
     },
     "output_type": "display_data"
    }
   ],
   "source": [
    "plt.scatter(lat_abs,data_lat['Deaths per 1000 Cases'],marker=\"o\")\n",
    "plt.xlabel('Degrees from the Equator')\n",
    "plt.ylabel('Deaths per 1000 Cases')\n",
    "plt.ylim(0,100)\n",
    "slope, intercept, r, p, std_err = st.linregress(lat_abs, data_lat['Deaths per 1000 Cases'])\n",
    "fit = slope * lat_abs + intercept\n",
    "plt.plot(lat_abs,fit,color='r')\n",
    "print(f\"r={round(r,4)}\")\n",
    "plt.show()"
   ]
  },
  {
   "cell_type": "code",
   "execution_count": 53,
   "metadata": {
    "scrolled": true
   },
   "outputs": [
    {
     "data": {
      "image/png": "[encoded data removed]",
      "text/plain": [
       "<Figure size 432x288 with 1 Axes>"
      ]
     },
     "metadata": {
      "needs_background": "light"
     },
     "output_type": "display_data"
    }
   ],
   "source": [
    "plt.scatter(lat_abs,data_lat['Deaths'],marker=\"o\")\n",
    "plt.xlabel('Degrees from the Equator')\n",
    "plt.ylabel('Deaths')\n",
    "plt.ylim(0,50000)\n",
    "plt.show()"
   ]
  },
  {
   "cell_type": "code",
   "execution_count": 63,
   "metadata": {},
   "outputs": [
    {
     "name": "stdout",
     "output_type": "stream",
     "text": [
      "r=0.1541\n"
     ]
    },
    {
     "data": {
      "image/png": "[encoded data removed]",
      "text/plain": [
       "<Figure size 432x288 with 1 Axes>"
      ]
     },
     "metadata": {
      "needs_background": "light"
     },
     "output_type": "display_data"
    }
   ],
   "source": [
    "plt.scatter(lat_abs,data_lat['Cases per 100,000 People'],marker=\"o\")\n",
    "plt.xlabel('Degrees from the Equator')\n",
    "plt.ylabel('Cases per 100,000 People')\n",
    "plt.ylim(0,3000)\n",
    "slope2, intercept2, r2, p2, std_err2 = st.linregress(lat_abs, data_lat['Cases per 100,000 People'])\n",
    "fit2 = slope2 * lat_abs + intercept2\n",
    "plt.plot(lat_abs,fit2,color='r')\n",
    "print(f\"r={round(r2,4)}\")\n",
    "plt.show()"
   ]
  },
  {
   "cell_type": "code",
   "execution_count": 64,
   "metadata": {},
   "outputs": [
    {
     "name": "stdout",
     "output_type": "stream",
     "text": [
      "r=0.2269\n"
     ]
    },
    {
     "data": {
      "image/png": "[encoded data removed]",
      "text/plain": [
       "<Figure size 432x288 with 1 Axes>"
      ]
     },
     "metadata": {
      "needs_background": "light"
     },
     "output_type": "display_data"
    }
   ],
   "source": [
    "plt.scatter(lat_abs,data_lat['Deaths per 100,000 People'],marker=\"o\")\n",
    "plt.xlabel('Degrees from the Equator')\n",
    "plt.ylabel('Deaths per 100,000 People')\n",
    "plt.ylim(0,80)\n",
    "slope3, intercept3, r3, p3, std_err3 = st.linregress(lat_abs, data_lat['Deaths per 100,000 People'])\n",
    "fit3 = slope3 * lat_abs + intercept3\n",
    "plt.plot(lat_abs,fit3,color='r')\n",
    "print(f\"r={round(r3,4)}\")\n",
    "plt.show()"
   ]
  },
  {
   "cell_type": "code",
   "execution_count": null,
   "metadata": {},
   "outputs": [],
   "source": []
  }
 ],
 "metadata": {
  "kernelspec": {
   "display_name": "Python [conda env:PythonData] *",
   "language": "python",
   "name": "conda-env-PythonData-py"
  },
  "language_info": {
   "codemirror_mode": {
    "name": "ipython",
    "version": 3
   },
   "file_extension": ".py",
   "mimetype": "text/x-python",
   "name": "python",
   "nbconvert_exporter": "python",
   "pygments_lexer": "ipython3",
   "version": "3.6.10"
  }
 },
 "nbformat": 4,
 "nbformat_minor": 4
}
