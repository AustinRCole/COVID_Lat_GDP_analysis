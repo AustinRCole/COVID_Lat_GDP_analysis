{
 "cells": [
  {
   "cell_type": "code",
   "execution_count": 4,
   "metadata": {},
   "outputs": [],
   "source": [
    "#Import dependencies\n",
    "import matplotlib.pyplot as plt\n",
    "import pandas as pd\n",
    "import scipy.stats as st\n",
    "import numpy as np\n",
    "from scipy.stats import linregress\n",
    "from config import api_key\n",
    "covid_path = \"Resources/COVID_19.csv\"\n",
    "GDP_path = \"Resources/Global_GDP.csv\"\n",
    "cities_path = \"Resources/worldcities.csv\"\n",
    "\n",
    "COVID_data = pd.read_csv(covid_path)\n",
    "GDP_data = pd.read_csv(GDP_path)\n",
    "cities_data = pd.read_csv(cities_path)"
   ]
  },
  {
   "cell_type": "code",
   "execution_count": 137,
   "metadata": {},
   "outputs": [
    {
     "data": {
      "text/plain": [
       "city          13802\n",
       "city_ascii    13802\n",
       "lat           13802\n",
       "lng           13802\n",
       "country       13802\n",
       "iso2          13776\n",
       "iso3          13802\n",
       "admin_name    13692\n",
       "capital        3561\n",
       "population    13802\n",
       "id            13802\n",
       "dtype: int64"
      ]
     },
     "execution_count": 137,
     "metadata": {},
     "output_type": "execute_result"
    }
   ],
   "source": [
    "cities_clean = cities_data.loc[cities_data['population']>0]\n",
    "cities_clean.count()"
   ]
  },
  {
   "cell_type": "code",
   "execution_count": 124,
   "metadata": {},
   "outputs": [
    {
     "data": {
      "text/plain": [
       "Country Name      223\n",
       "Country Code      223\n",
       "Indicator Name    223\n",
       "Indicator Code    223\n",
       "2019              223\n",
       "dtype: int64"
      ]
     },
     "execution_count": 124,
     "metadata": {},
     "output_type": "execute_result"
    }
   ],
   "source": [
    "gdp_stpone = GDP_data[['Country Name','Country Code','Indicator Name','Indicator Code','2019']]\n",
    "gdp_clean = gdp_stpone.dropna(how='any')\n",
    "gdp_clean.count()"
   ]
  },
  {
   "cell_type": "code",
   "execution_count": 125,
   "metadata": {},
   "outputs": [
    {
     "data": {
      "text/plain": [
       "dateRep                                                       44713\n",
       "day                                                           44713\n",
       "month                                                         44713\n",
       "year                                                          44713\n",
       "cases                                                         44713\n",
       "deaths                                                        44713\n",
       "countriesAndTerritories                                       44713\n",
       "geoId                                                         44713\n",
       "countryterritoryCode                                          44713\n",
       "popData2019                                                   44713\n",
       "continentExp                                                  44713\n",
       "Cumulative_number_for_14_days_of_COVID-19_cases_per_100000    44713\n",
       "dtype: int64"
      ]
     },
     "execution_count": 125,
     "metadata": {},
     "output_type": "execute_result"
    }
   ],
   "source": [
    "covid_clean = COVID_data.dropna(how='any')\n",
    "covid_clean.count()"
   ]
  },
  {
   "cell_type": "code",
   "execution_count": null,
   "metadata": {},
   "outputs": [],
   "source": []
  },
  {
   "cell_type": "code",
   "execution_count": null,
   "metadata": {},
   "outputs": [],
   "source": []
  }
 ],
 "metadata": {
  "kernelspec": {
   "display_name": "Python [conda env:PythonData] *",
   "language": "python",
   "name": "conda-env-PythonData-py"
  },
  "language_info": {
   "codemirror_mode": {
    "name": "ipython",
    "version": 3
   },
   "file_extension": ".py",
   "mimetype": "text/x-python",
   "name": "python",
   "nbconvert_exporter": "python",
   "pygments_lexer": "ipython3",
   "version": "3.6.10"
  }
 },
 "nbformat": 4,
 "nbformat_minor": 4
}
